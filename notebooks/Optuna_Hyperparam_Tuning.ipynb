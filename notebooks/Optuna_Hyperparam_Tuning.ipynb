{
 "cells": [
  {
   "cell_type": "code",
   "execution_count": null,
   "metadata": {},
   "outputs": [],
   "source": [
    "\n",
    "import optuna\n",
    "import mlflow\n",
    "import mlflow.sklearn\n",
    "import pandas as pd\n",
    "import joblib\n",
    "from sklearn.ensemble import RandomForestRegressor, GradientBoostingRegressor\n",
    "from sklearn.linear_model import LinearRegression\n",
    "from sklearn.metrics import mean_squared_error, r2_score\n",
    "from sklearn.model_selection import train_test_split\n",
    "\n",
    "from commons.data_loading import (\n",
    "    load_raw_data,\n",
    "    transformed_employee_performance,\n",
    "    feature_engineered_employee_performance\n",
    ")\n",
    "from commons.commons import get_features\n",
    "\n",
    "mlflow.set_tracking_uri(\"http://localhost:5000\")\n",
    "mlflow.set_experiment(\"Optuna_Hyperparameter_Tuning\")\n"
   ]
  },
  {
   "cell_type": "code",
   "execution_count": 2,
   "metadata": {},
   "outputs": [
    {
     "ename": "NameError",
     "evalue": "name 'load_raw_data' is not defined",
     "output_type": "error",
     "traceback": [
      "\u001b[1;31m---------------------------------------------------------------------------\u001b[0m",
      "\u001b[1;31mNameError\u001b[0m                                 Traceback (most recent call last)",
      "Cell \u001b[1;32mIn[2], line 9\u001b[0m\n\u001b[0;32m      4\u001b[0m     new_df, X_scaler, y_scaler \u001b[38;5;241m=\u001b[39m feature_engineered_employee_performance(\n\u001b[0;32m      5\u001b[0m         data_df\u001b[38;5;241m=\u001b[39mdata_df, return_scaler\u001b[38;5;241m=\u001b[39m\u001b[38;5;28;01mTrue\u001b[39;00m\n\u001b[0;32m      6\u001b[0m     )\n\u001b[0;32m      7\u001b[0m     \u001b[38;5;28;01mreturn\u001b[39;00m new_df, X_scaler, y_scaler\n\u001b[1;32m----> 9\u001b[0m data_df, X_scaler, y_scaler \u001b[38;5;241m=\u001b[39m \u001b[43mget_data\u001b[49m\u001b[43m(\u001b[49m\u001b[43m)\u001b[49m\n\u001b[0;32m     10\u001b[0m X, y \u001b[38;5;241m=\u001b[39m get_features(data_df)\n\u001b[0;32m     11\u001b[0m X_train, X_test, y_train, y_test \u001b[38;5;241m=\u001b[39m train_test_split(X, y, test_size\u001b[38;5;241m=\u001b[39m\u001b[38;5;241m0.2\u001b[39m, random_state\u001b[38;5;241m=\u001b[39m\u001b[38;5;241m42\u001b[39m)\n",
      "Cell \u001b[1;32mIn[2], line 2\u001b[0m, in \u001b[0;36mget_data\u001b[1;34m()\u001b[0m\n\u001b[0;32m      1\u001b[0m \u001b[38;5;28;01mdef\u001b[39;00m\u001b[38;5;250m \u001b[39m\u001b[38;5;21mget_data\u001b[39m():\n\u001b[1;32m----> 2\u001b[0m     data_df \u001b[38;5;241m=\u001b[39m \u001b[43mload_raw_data\u001b[49m()[:\u001b[38;5;241m2000\u001b[39m]\n\u001b[0;32m      3\u001b[0m     data_df \u001b[38;5;241m=\u001b[39m transformed_employee_performance(data_df\u001b[38;5;241m=\u001b[39mdata_df)\n\u001b[0;32m      4\u001b[0m     new_df, X_scaler, y_scaler \u001b[38;5;241m=\u001b[39m feature_engineered_employee_performance(\n\u001b[0;32m      5\u001b[0m         data_df\u001b[38;5;241m=\u001b[39mdata_df, return_scaler\u001b[38;5;241m=\u001b[39m\u001b[38;5;28;01mTrue\u001b[39;00m\n\u001b[0;32m      6\u001b[0m     )\n",
      "\u001b[1;31mNameError\u001b[0m: name 'load_raw_data' is not defined"
     ]
    }
   ],
   "source": [
    "\n",
    "def get_data():\n",
    "    data_df = load_raw_data()[:2000]\n",
    "    data_df = transformed_employee_performance(data_df=data_df)\n",
    "    new_df, X_scaler, y_scaler = feature_engineered_employee_performance(\n",
    "        data_df=data_df, return_scaler=True\n",
    "    )\n",
    "    return new_df, X_scaler, y_scaler\n",
    "\n",
    "data_df, X_scaler, y_scaler = get_data()\n",
    "X, y = get_features(data_df)\n",
    "X_train, X_test, y_train, y_test = train_test_split(X, y, test_size=0.2, random_state=42)\n"
   ]
  },
  {
   "cell_type": "code",
   "execution_count": null,
   "metadata": {},
   "outputs": [],
   "source": [
    "\n",
    "def objective(trial):\n",
    "    with mlflow.start_run(nested=True):\n",
    "        model_type = trial.suggest_categorical('model_type', ['RandomForest', 'GradientBoosting'])\n",
    "        \n",
    "        if model_type == 'RandomForest':\n",
    "            n_estimators = trial.suggest_int('n_estimators', 50, 200)\n",
    "            max_depth = trial.suggest_int('max_depth', 2, 32, log=True)\n",
    "            min_samples_split = trial.suggest_int('min_samples_split', 2, 10)\n",
    "            min_samples_leaf = trial.suggest_int('min_samples_leaf', 1, 10)\n",
    "            model = RandomForestRegressor(\n",
    "                n_estimators=n_estimators,\n",
    "                max_depth=max_depth,\n",
    "                min_samples_split=min_samples_split,\n",
    "                min_samples_leaf=min_samples_leaf,\n",
    "                random_state=42\n",
    "            )\n",
    "            mlflow.log_params({\n",
    "                'model_type': model_type,\n",
    "                'n_estimators': n_estimators,\n",
    "                'max_depth': max_depth,\n",
    "                'min_samples_split': min_samples_split,\n",
    "                'min_samples_leaf': min_samples_leaf\n",
    "            })\n",
    "            \n",
    "        elif model_type == 'GradientBoosting':\n",
    "            learning_rate = trial.suggest_loguniform('learning_rate', 0.01, 0.1)\n",
    "            n_estimators = trial.suggest_int('n_estimators', 50, 200)\n",
    "            max_depth = trial.suggest_int('max_depth', 2, 32, log=True)\n",
    "            model = GradientBoostingRegressor(\n",
    "                learning_rate=learning_rate,\n",
    "                n_estimators=n_estimators,\n",
    "                max_depth=max_depth,\n",
    "                random_state=42\n",
    "            )\n",
    "            mlflow.log_params({\n",
    "                'model_type': model_type,\n",
    "                'learning_rate': learning_rate,\n",
    "                'n_estimators': n_estimators,\n",
    "                'max_depth': max_depth\n",
    "            })\n",
    "\n",
    "        model.fit(X_train, y_train)\n",
    "        predictions = model.predict(X_test)\n",
    "        mse = mean_squared_error(y_test, predictions)\n",
    "        r2 = r2_score(y_test, predictions)\n",
    "\n",
    "        mlflow.log_metric('mse', mse)\n",
    "        mlflow.log_metric('r2_score', r2)\n",
    "        \n",
    "        return mse\n"
   ]
  }
 ],
 "metadata": {
  "kernelspec": {
   "display_name": "Python 3",
   "language": "python",
   "name": "python3"
  },
  "language_info": {
   "codemirror_mode": {
    "name": "ipython",
    "version": 3
   },
   "file_extension": ".py",
   "mimetype": "text/x-python",
   "name": "python",
   "nbconvert_exporter": "python",
   "pygments_lexer": "ipython3",
   "version": "3.13.1"
  }
 },
 "nbformat": 4,
 "nbformat_minor": 2
}

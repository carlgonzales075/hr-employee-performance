{
 "cells": [
  {
   "cell_type": "code",
   "execution_count": 1,
   "metadata": {},
   "outputs": [],
   "source": [
    "import pandas as pd\n",
    "import mlflow\n",
    "import joblib\n",
    "from sklearn.model_selection import train_test_split, GridSearchCV\n",
    "from sklearn.linear_model import LinearRegression\n",
    "from sklearn.ensemble import RandomForestRegressor, GradientBoostingRegressor\n",
    "from sklearn.metrics import mean_squared_error, r2_score\n",
    "from commons.data_loading import (load_raw_data,\n",
    "                                  transformed_employee_performance,\n",
    "                                  feature_engineered_employee_performance)\n",
    "from commons.commons import get_features"
   ]
  },
  {
   "cell_type": "code",
   "execution_count": 2,
   "metadata": {},
   "outputs": [],
   "source": [
    "def save_scaler(scaler, name=\"standard_scaler\",\n",
    "                filename='scaler'):\n",
    "    \"\"\"Save and log the StandardScaler to MLflow.\"\"\"\n",
    "    mlflow.set_tracking_uri(\"http://localhost:5000\")\n",
    "    mlflow.set_experiment(\"hw3-first_experiment\")\n",
    "\n",
    "    with mlflow.start_run(run_name=name):\n",
    "        joblib.dump(scaler, f\"{filename}.pkl\")\n",
    "        mlflow.log_artifact(f\"{filename}.pkl\")\n",
    "\n",
    "        mlflow.sklearn.log_model(scaler, name)"
   ]
  },
  {
   "cell_type": "code",
   "execution_count": 3,
   "metadata": {},
   "outputs": [],
   "source": [
    "def get_data():\n",
    "    data_df = load_raw_data()[:2000]\n",
    "    data_df = transformed_employee_performance(data_df=data_df)\n",
    "    new_df, X_scaler, y_scaler = feature_engineered_employee_performance(data_df=data_df,\n",
    "                                                    return_scaler=True)\n",
    "    save_scaler(X_scaler, 'x_standard_scaler',\n",
    "                'x_scaler')\n",
    "    save_scaler(y_scaler, 'y_standard_scaler',\n",
    "                'y_scaler')\n",
    "    return new_df, X_scaler, y_scaler"
   ]
  },
  {
   "cell_type": "code",
   "execution_count": 4,
   "metadata": {},
   "outputs": [
    {
     "name": "stdout",
     "output_type": "stream",
     "text": [
      "Not Found\n"
     ]
    },
    {
     "ename": "FileNotFoundError",
     "evalue": "File not found: c:\\Users\\Harold David\\OneDrive\\Documents\\GitHub\\MLOPs\\hr-employee-performance\\dataset\\Extended_Employee_Performance_and_Productivity.csv",
     "output_type": "error",
     "traceback": [
      "\u001b[1;31m---------------------------------------------------------------------------\u001b[0m",
      "\u001b[1;31mFileNotFoundError\u001b[0m                         Traceback (most recent call last)",
      "Cell \u001b[1;32mIn[4], line 1\u001b[0m\n\u001b[1;32m----> 1\u001b[0m new_df, X_scaler, y_scaler \u001b[38;5;241m=\u001b[39m \u001b[43mget_data\u001b[49m\u001b[43m(\u001b[49m\u001b[43m)\u001b[49m\n\u001b[0;32m      2\u001b[0m new_df\u001b[38;5;241m.\u001b[39mhead()\n",
      "Cell \u001b[1;32mIn[3], line 2\u001b[0m, in \u001b[0;36mget_data\u001b[1;34m()\u001b[0m\n\u001b[0;32m      1\u001b[0m \u001b[38;5;28;01mdef\u001b[39;00m\u001b[38;5;250m \u001b[39m\u001b[38;5;21mget_data\u001b[39m():\n\u001b[1;32m----> 2\u001b[0m     data_df \u001b[38;5;241m=\u001b[39m \u001b[43mload_raw_data\u001b[49m\u001b[43m(\u001b[49m\u001b[43m)\u001b[49m[:\u001b[38;5;241m2000\u001b[39m]\n\u001b[0;32m      3\u001b[0m     data_df \u001b[38;5;241m=\u001b[39m transformed_employee_performance(data_df\u001b[38;5;241m=\u001b[39mdata_df)\n\u001b[0;32m      4\u001b[0m     new_df, X_scaler, y_scaler \u001b[38;5;241m=\u001b[39m feature_engineered_employee_performance(data_df\u001b[38;5;241m=\u001b[39mdata_df,\n\u001b[0;32m      5\u001b[0m                                                     return_scaler\u001b[38;5;241m=\u001b[39m\u001b[38;5;28;01mTrue\u001b[39;00m)\n",
      "File \u001b[1;32mc:\\Users\\Harold David\\OneDrive\\Documents\\GitHub\\MLOPs\\hr-employee-performance\\notebooks\\commons\\data_loading.py:24\u001b[0m, in \u001b[0;36mload_raw_data\u001b[1;34m()\u001b[0m\n\u001b[0;32m     22\u001b[0m \u001b[38;5;66;03m# Check if the file exists before loading\u001b[39;00m\n\u001b[0;32m     23\u001b[0m \u001b[38;5;28;01mif\u001b[39;00m \u001b[38;5;129;01mnot\u001b[39;00m os\u001b[38;5;241m.\u001b[39mpath\u001b[38;5;241m.\u001b[39mexists(file_path):\n\u001b[1;32m---> 24\u001b[0m     \u001b[38;5;28;01mraise\u001b[39;00m \u001b[38;5;167;01mFileNotFoundError\u001b[39;00m(\u001b[38;5;124mf\u001b[39m\u001b[38;5;124m\"\u001b[39m\u001b[38;5;124mFile not found: \u001b[39m\u001b[38;5;132;01m{\u001b[39;00mfile_path\u001b[38;5;132;01m}\u001b[39;00m\u001b[38;5;124m\"\u001b[39m)\n\u001b[0;32m     26\u001b[0m data_df \u001b[38;5;241m=\u001b[39m pd\u001b[38;5;241m.\u001b[39mread_csv(file_path)\n\u001b[0;32m     27\u001b[0m \u001b[38;5;28;01mreturn\u001b[39;00m data_df\n",
      "\u001b[1;31mFileNotFoundError\u001b[0m: File not found: c:\\Users\\Harold David\\OneDrive\\Documents\\GitHub\\MLOPs\\hr-employee-performance\\dataset\\Extended_Employee_Performance_and_Productivity.csv"
     ]
    }
   ],
   "source": [
    "new_df, X_scaler, y_scaler = get_data()\n",
    "new_df.head()"
   ]
  },
  {
   "cell_type": "code",
   "execution_count": null,
   "metadata": {},
   "outputs": [
    {
     "data": {
      "text/html": [
       "<div>\n",
       "<style scoped>\n",
       "    .dataframe tbody tr th:only-of-type {\n",
       "        vertical-align: middle;\n",
       "    }\n",
       "\n",
       "    .dataframe tbody tr th {\n",
       "        vertical-align: top;\n",
       "    }\n",
       "\n",
       "    .dataframe thead th {\n",
       "        text-align: right;\n",
       "    }\n",
       "</style>\n",
       "<table border=\"1\" class=\"dataframe\">\n",
       "  <thead>\n",
       "    <tr style=\"text-align: right;\">\n",
       "      <th></th>\n",
       "      <th>Employee_Satisfaction_Score</th>\n",
       "    </tr>\n",
       "  </thead>\n",
       "  <tbody>\n",
       "    <tr>\n",
       "      <th>0</th>\n",
       "      <td>2.63</td>\n",
       "    </tr>\n",
       "    <tr>\n",
       "      <th>1</th>\n",
       "      <td>1.72</td>\n",
       "    </tr>\n",
       "    <tr>\n",
       "      <th>2</th>\n",
       "      <td>3.17</td>\n",
       "    </tr>\n",
       "    <tr>\n",
       "      <th>3</th>\n",
       "      <td>1.86</td>\n",
       "    </tr>\n",
       "    <tr>\n",
       "      <th>4</th>\n",
       "      <td>1.25</td>\n",
       "    </tr>\n",
       "  </tbody>\n",
       "</table>\n",
       "</div>"
      ],
      "text/plain": [
       "   Employee_Satisfaction_Score\n",
       "0                         2.63\n",
       "1                         1.72\n",
       "2                         3.17\n",
       "3                         1.86\n",
       "4                         1.25"
      ]
     },
     "execution_count": 5,
     "metadata": {},
     "output_type": "execute_result"
    }
   ],
   "source": [
    "numeric_columns = get_features()\n",
    "newer_df = y_scaler.inverse_transform(\n",
    "    new_df['Employee_Satisfaction_Score'].values.reshape(-1, 1)\n",
    ")\n",
    "pd.DataFrame(newer_df, columns=['Employee_Satisfaction_Score']).head()"
   ]
  },
  {
   "cell_type": "code",
   "execution_count": null,
   "metadata": {},
   "outputs": [],
   "source": [
    "def trained_regression_models(new_df: pd.DataFrame):\n",
    "    \"\"\"\n",
    "    Train multiple regression models with hyperparameter tuning and log them to MLflow.\n",
    "\n",
    "    Parameters\n",
    "    ----------\n",
    "    new_df : pd.DataFrame\n",
    "        Feature-engineered dataset.\n",
    "\n",
    "    Returns\n",
    "    -------\n",
    "    dict\n",
    "        Dictionary containing trained models and test data.\n",
    "    \"\"\"\n",
    "    mlflow.set_tracking_uri('http://localhost:5000')\n",
    "    mlflow.set_experiment(\"hw3-first_experiment\")\n",
    "\n",
    "    X = new_df.drop(columns=[\"Employee_Satisfaction_Score\"])\n",
    "    y = new_df[\"Employee_Satisfaction_Score\"]\n",
    "\n",
    "    X_train, X_test, y_train, y_test = train_test_split(\n",
    "        X, y, test_size=0.2, random_state=42\n",
    "    )\n",
    "\n",
    "    models = {\n",
    "        \"linear_regression\": (LinearRegression(), {}),\n",
    "        \"rf_regressor\": (RandomForestRegressor(random_state=42), {\n",
    "            \"n_estimators\": [50, 100, 200],\n",
    "            \"max_depth\": [10, 20, None]\n",
    "        }),\n",
    "        \"gboost_regressor\": (GradientBoostingRegressor(random_state=42), {\n",
    "            \"n_estimators\": [50, 100, 200],\n",
    "            \"learning_rate\": [0.01, 0.1, 0.2]\n",
    "        })\n",
    "    }\n",
    "\n",
    "    trained_models = {}\n",
    "    for name, (model, param_grid) in models.items():\n",
    "        with mlflow.start_run(run_name=name):\n",
    "            if param_grid:\n",
    "                search = GridSearchCV(model, param_grid,\n",
    "                                      scoring=\"neg_mean_squared_error\",\n",
    "                                      cv=3)\n",
    "                search.fit(X_train, y_train)\n",
    "                best_model = search.best_estimator_\n",
    "                mlflow.log_params(search.best_params_)\n",
    "            else:\n",
    "                best_model = model.fit(X_train, y_train)\n",
    "\n",
    "\n",
    "            y_pred = best_model.predict(X_test)\n",
    "            mse = mean_squared_error(y_test, y_pred)\n",
    "            r2 = r2_score(y_test, y_pred)\n",
    "            mlflow.log_metric(\"mse\", mse)\n",
    "            mlflow.log_metric(\"r2\", r2)\n",
    "            mlflow.sklearn.log_model(best_model, name,\n",
    "                                     registered_model_name=name)\n",
    "\n",
    "            \n",
    "            trained_models[name] = best_model\n",
    "            print(f\"✅ Trained and logged {name} model. MSE: {mse:.4f}, R²: {r2:.4f}\")\n",
    "\n",
    "    return {\n",
    "        \"models\": trained_models,\n",
    "        \"X_test\": X_test,\n",
    "        \"y_test\": y_test\n",
    "    }"
   ]
  },
  {
   "cell_type": "code",
   "execution_count": null,
   "metadata": {},
   "outputs": [],
   "source": [
    "def main(new_df):\n",
    "    trained_models = trained_regression_models(new_df=new_df)\n",
    "    return trained_models"
   ]
  },
  {
   "cell_type": "code",
   "execution_count": null,
   "metadata": {},
   "outputs": [
    {
     "name": "stdout",
     "output_type": "stream",
     "text": [
      "Found\n"
     ]
    },
    {
     "name": "stderr",
     "output_type": "stream",
     "text": [
      "2025/02/21 16:35:37 WARNING mlflow.models.model: Model logged without a signature and input example. Please set `input_example` parameter when logging the model to auto infer the model signature.\n",
      "Registered model 'linear_regression' already exists. Creating a new version of this model...\n",
      "2025/02/21 16:35:37 INFO mlflow.store.model_registry.abstract_store: Waiting up to 300 seconds for model version to finish creation. Model name: linear_regression, version 2\n",
      "Created version '2' of model 'linear_regression'.\n"
     ]
    },
    {
     "name": "stdout",
     "output_type": "stream",
     "text": [
      "✅ Trained and logged linear_regression model. MSE: 1.0190, R²: -0.0337\n",
      "🏃 View run linear_regression at: http://localhost:5000/#/experiments/1/runs/fad4eeea96c2482aa2d89f1e4299776d\n",
      "🧪 View experiment at: http://localhost:5000/#/experiments/1\n"
     ]
    },
    {
     "name": "stderr",
     "output_type": "stream",
     "text": [
      "2025/02/21 16:36:08 WARNING mlflow.models.model: Model logged without a signature and input example. Please set `input_example` parameter when logging the model to auto infer the model signature.\n",
      "Registered model 'rf_regressor' already exists. Creating a new version of this model...\n",
      "2025/02/21 16:36:09 INFO mlflow.store.model_registry.abstract_store: Waiting up to 300 seconds for model version to finish creation. Model name: rf_regressor, version 2\n",
      "Created version '2' of model 'rf_regressor'.\n"
     ]
    },
    {
     "name": "stdout",
     "output_type": "stream",
     "text": [
      "✅ Trained and logged rf_regressor model. MSE: 1.0282, R²: -0.0430\n",
      "🏃 View run rf_regressor at: http://localhost:5000/#/experiments/1/runs/ab6f3632f35f41c9b9a52bd41c8be8b4\n",
      "🧪 View experiment at: http://localhost:5000/#/experiments/1\n"
     ]
    },
    {
     "name": "stderr",
     "output_type": "stream",
     "text": [
      "2025/02/21 16:36:22 WARNING mlflow.models.model: Model logged without a signature and input example. Please set `input_example` parameter when logging the model to auto infer the model signature.\n",
      "Registered model 'gboost_regressor' already exists. Creating a new version of this model...\n",
      "2025/02/21 16:36:22 INFO mlflow.store.model_registry.abstract_store: Waiting up to 300 seconds for model version to finish creation. Model name: gboost_regressor, version 2\n"
     ]
    },
    {
     "name": "stdout",
     "output_type": "stream",
     "text": [
      "✅ Trained and logged gboost_regressor model. MSE: 1.0005, R²: -0.0149\n",
      "🏃 View run gboost_regressor at: http://localhost:5000/#/experiments/1/runs/e1a301e9f09542a8adb07d0c81cb69d5\n",
      "🧪 View experiment at: http://localhost:5000/#/experiments/1\n"
     ]
    },
    {
     "name": "stderr",
     "output_type": "stream",
     "text": [
      "Created version '2' of model 'gboost_regressor'.\n"
     ]
    },
    {
     "data": {
      "text/plain": [
       "{'models': {'linear_regression': LinearRegression(),\n",
       "  'rf_regressor': RandomForestRegressor(max_depth=10, n_estimators=200, random_state=42),\n",
       "  'gboost_regressor': GradientBoostingRegressor(learning_rate=0.01, n_estimators=50, random_state=42)},\n",
       " 'X_test':       Employee_ID       Age  Years_At_Company  Performance_Score  \\\n",
       " 1860         1861 -0.981520         -0.199791           0.026506   \n",
       " 353           354  0.298644         -1.258756          -0.689861   \n",
       " 1333         1334  0.298644         -0.552779           1.459238   \n",
       " 905           906 -0.067117         -0.552779          -1.406227   \n",
       " 1289         1290  0.024323         -0.552779           0.742872   \n",
       " ...           ...       ...               ...                ...   \n",
       " 965           966  1.670248         -1.258756           1.459238   \n",
       " 1284         1285  1.761689          0.153197          -1.406227   \n",
       " 1739         1740 -0.981520         -0.905767           0.026506   \n",
       " 261           262 -0.798639         -0.199791          -1.406227   \n",
       " 535           536  0.390084         -0.905767          -1.406227   \n",
       " \n",
       "       Monthly_Salary  Work_Hours_Per_Week  Projects_Handled  Overtime_Hours  \\\n",
       " 1860            7150             0.355318          0.368281        0.973142   \n",
       " 353             4800             1.145791         -0.615958        0.396739   \n",
       " 1333            8250             0.355318         -1.178380       -1.678314   \n",
       " 905             4950            -0.886855         -1.529894       -0.640788   \n",
       " 1289            5600             0.355318          0.860400        1.664826   \n",
       " ...              ...                  ...               ...             ...   \n",
       " 965             6000             0.694092          1.211914       -1.217191   \n",
       " 1284            6600             1.258716         -0.686260       -0.756069   \n",
       " 1739            4550            -1.112704          0.508887       -1.678314   \n",
       " 261             3850            -0.548080          0.087070       -0.525507   \n",
       " 535             4950             0.807017         -0.686260       -0.525507   \n",
       " \n",
       "       Sick_Days  Remote_Work_Frequency  ...  Gender_Other  \\\n",
       " 1860   1.637134               1.394988  ...             0   \n",
       " 353    1.406600              -1.420325  ...             0   \n",
       " 1333   1.406600              -1.420325  ...             0   \n",
       " 905    1.637134               0.691159  ...             0   \n",
       " 1289  -0.898735              -1.420325  ...             0   \n",
       " ...         ...                    ...  ...           ...   \n",
       " 965    1.406600               1.394988  ...             0   \n",
       " 1284   0.484466              -0.012669  ...             0   \n",
       " 1739   0.253933              -0.716497  ...             0   \n",
       " 261    0.715000              -0.012669  ...             0   \n",
       " 535    1.176067              -0.012669  ...             0   \n",
       " \n",
       "       Job_Title_Consultant  Job_Title_Developer  Job_Title_Engineer  \\\n",
       " 1860                     1                    0                   0   \n",
       " 353                      0                    0                   0   \n",
       " 1333                     1                    0                   0   \n",
       " 905                      0                    0                   0   \n",
       " 1289                     0                    0                   0   \n",
       " ...                    ...                  ...                 ...   \n",
       " 965                      0                    0                   0   \n",
       " 1284                     0                    0                   1   \n",
       " 1739                     0                    0                   0   \n",
       " 261                      0                    0                   0   \n",
       " 535                      0                    0                   0   \n",
       " \n",
       "       Job_Title_Manager  Job_Title_Specialist  Job_Title_Technician  \\\n",
       " 1860                  0                     0                     0   \n",
       " 353                   0                     0                     0   \n",
       " 1333                  0                     0                     0   \n",
       " 905                   0                     1                     0   \n",
       " 1289                  0                     0                     0   \n",
       " ...                 ...                   ...                   ...   \n",
       " 965                   0                     0                     0   \n",
       " 1284                  0                     0                     0   \n",
       " 1739                  0                     0                     1   \n",
       " 261                   0                     0                     1   \n",
       " 535                   0                     1                     0   \n",
       " \n",
       "       Education_Level_High School  Education_Level_Master  Education_Level_PhD  \n",
       " 1860                            1                       0                    0  \n",
       " 353                             0                       0                    0  \n",
       " 1333                            0                       1                    0  \n",
       " 905                             0                       0                    0  \n",
       " 1289                            1                       0                    0  \n",
       " ...                           ...                     ...                  ...  \n",
       " 965                             1                       0                    0  \n",
       " 1284                            0                       0                    0  \n",
       " 1739                            0                       0                    0  \n",
       " 261                             0                       0                    0  \n",
       " 535                             0                       0                    0  \n",
       " \n",
       " [400 rows x 34 columns],\n",
       " 'y_test': 1860    0.909946\n",
       " 353     0.305505\n",
       " 1333    1.356707\n",
       " 905     0.498226\n",
       " 1289   -1.411457\n",
       "           ...   \n",
       " 965     1.426787\n",
       " 1284    0.927466\n",
       " 1739   -1.683017\n",
       " 261    -1.358897\n",
       " 535     1.032586\n",
       " Name: Employee_Satisfaction_Score, Length: 400, dtype: float64}"
      ]
     },
     "execution_count": 32,
     "metadata": {},
     "output_type": "execute_result"
    }
   ],
   "source": [
    "main(new_df=new_df)"
   ]
  },
  {
   "cell_type": "code",
   "execution_count": null,
   "metadata": {},
   "outputs": [],
   "source": []
  }
 ],
 "metadata": {
  "kernelspec": {
   "display_name": "Python 3",
   "language": "python",
   "name": "python3"
  },
  "language_info": {
   "codemirror_mode": {
    "name": "ipython",
    "version": 3
   },
   "file_extension": ".py",
   "mimetype": "text/x-python",
   "name": "python",
   "nbconvert_exporter": "python",
   "pygments_lexer": "ipython3",
   "version": "3.13.1"
  }
 },
 "nbformat": 4,
 "nbformat_minor": 2
}
